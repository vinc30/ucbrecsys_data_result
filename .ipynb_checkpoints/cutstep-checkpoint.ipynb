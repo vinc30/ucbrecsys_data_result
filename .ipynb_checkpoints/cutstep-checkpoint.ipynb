{
 "cells": [
  {
   "cell_type": "code",
   "execution_count": null,
   "metadata": {
    "collapsed": true
   },
   "outputs": [],
   "source": [
    "Cutstep"
   ]
  },
  {
   "cell_type": "code",
   "execution_count": null,
   "metadata": {
    "collapsed": true
   },
   "outputs": [],
   "source": [
    "mf: 2015-11-20-0-16-47_mf_0_0.000100_5000_reward.dat\n",
    "    mf_cutstep_[expnum=0]_[mfthreshold=0.0001]_[stepcut]    !!!! Warning: FILE NAME INCONSISTENT\n",
    "ucbmf: 2015-11-18-20-9-46_ucbmf_cutstep_0_0.010000_1.000000_0.000100_4000_regret.dat\n",
    "    ucbmf_[expnum=0]_[alpha=0.01]_[lambda=1]_[mfthreshold=0.0001]_[stepcut]\n",
    "bewareU: 2015-11-19-7-12-18_bewareU_cutstep_0_0.000100_2000_reward.dat\n",
    "    bewareU_cutstep_[expnum=0]_[mfthreshold=0.0001]_[stepcut]\n",
    "bewareV: 2015-11-19-2-22-56_bewareV_cutstep_0_0.000100_3000_reward.dat\n",
    "    bewareV_cutstep_[expnum=0]_[mfthreshold=0.0001]_[stepcut]"
   ]
  },
  {
   "cell_type": "code",
   "execution_count": 1,
   "metadata": {
    "collapsed": true
   },
   "outputs": [],
   "source": [
    "# Modules\n",
    "from glob import glob\n",
    "from matplotlib import pyplot as plt\n",
    "from functools import reduce\n",
    "import os\n",
    "import requests\n",
    "from IPython.display import Image\n",
    "%matplotlib inline"
   ]
  },
  {
   "cell_type": "code",
   "execution_count": 3,
   "metadata": {
    "collapsed": true
   },
   "outputs": [],
   "source": [
    "def plot_data(expnum, exptype, resulttype, interval, cumulated, alpha):\n",
    "    if alpha == -1:\n",
    "        filepath = glob(\"./result/*_\" + exptype + \"_\" + str(expnum) + \"_\" + resulttype + \".dat\")\n",
    "        alpha = 0.05\n",
    "    else:\n",
    "        filepath = glob(\"./result/*_\" + exptype + \"_\" + str(expnum) + \"_{}*_\".format(alpha) + resulttype + \".dat\")\n",
    "    r_interval = [0 for i in range(0,10000,interval)]\n",
    "    for f in filepath:\n",
    "        fp = open(f)\n",
    "        r = list(map(lambda x: float(x), fp.readlines()))\n",
    "        tmp = [reduce(lambda x, y: x + y, r[i:i + interval]) / float(interval) for i in range(0, 10000, interval)]\n",
    "        r_interval = [r_interval[i] + tmp[i] for i in range(0,len(r_interval))]\n",
    "    r_interval = list(map(lambda x:x/len(filepath), r_interval))\n",
    "    if cumulated == 1:\n",
    "        for i in range(len(r_interval)):\n",
    "            r_interval[i] = r_interval[i] + r_interval[i - 1] if i > 0 else r_interval[i]\n",
    "    r_line = plt.plot(r_interval, label=\"exp:{},{}_{}_{:1.4f}\".format(expnum, exptype, resulttype, alpha))"
   ]
  },
  {
   "cell_type": "code",
   "execution_count": null,
   "metadata": {
    "collapsed": true
   },
   "outputs": [],
   "source": [
    "expnum = 3\n",
    "resulttype = \"regret\"\n",
    "interval = 50\n",
    "cumulated = 1\n",
    "alpha = -1\n",
    "mfthreshold_list = [1, 10, 20, 30, 40, 50, 60, 70, 80 ,90, 100, 200, 300, 400, 500, 600, 700, 800, 900, 1000, 2000, 3000, 4000, 5000]\n",
    "title = \"Cumulated {}\".format(resulttype) if cumulated == 1 else resulttype\n",
    "plot_data(expnum, \"mf\", resulttype, interval, cumulated, alpha)\n",
    "plot_data(expnum, \"ucbmf_latentkernel\", resulttype, interval, cumulated, alpha)\n",
    "plot_data(expnum, \"ucbmf\", resulttype, interval, cumulated, alpha)\n",
    "plot_data(expnum, \"bewareU\", resulttype, interval, cumulated, alpha)\n",
    "plot_data(expnum, \"bewareV\", resulttype, interval, cumulated, alpha)\n",
    "plt.legend(loc='center left', title=title, bbox_to_anchor=(1, 0.5))\n",
    "plt.show()"
   ]
  }
 ],
 "metadata": {
  "kernelspec": {
   "display_name": "Python 2",
   "language": "python",
   "name": "python2"
  },
  "language_info": {
   "codemirror_mode": {
    "name": "ipython",
    "version": 2
   },
   "file_extension": ".py",
   "mimetype": "text/x-python",
   "name": "python",
   "nbconvert_exporter": "python",
   "pygments_lexer": "ipython2",
   "version": "2.7.6"
  }
 },
 "nbformat": 4,
 "nbformat_minor": 0
}
